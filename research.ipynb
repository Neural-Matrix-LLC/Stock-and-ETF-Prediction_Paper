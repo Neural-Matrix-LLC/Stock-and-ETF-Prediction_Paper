{
 "cells": [
  {
   "cell_type": "markdown",
   "id": "59bd390b-21ca-4ae5-b3bb-4a31dc903eb9",
   "metadata": {},
   "source": [
    "# Stock Price Prediction\n",
    "\n",
    "**Keywords:** Stock price prediciton, Deep Learning, RNN, LSTM, Bi-LSTM, Transformers"
   ]
  },
  {
   "cell_type": "markdown",
   "id": "e108c21a-c35b-4ccd-b805-429c162702c5",
   "metadata": {},
   "source": [
    "## Recurrent Neural Network (RNN)\n",
    "\n",
    "A recurrent neural network (RNN) is a type of artificial neural network which uses sequential data or time series data. These deep learning algorithms are commonly used for ordinal or temporal problems, such as language translation, natural language processing (nlp), speech recognition, and image captioning; they are incorporated into popular applications such as Siri, voice search, and Google Translate. Like feedforward and convolutional neural networks (CNNs), recurrent neural networks utilize training data to learn. They are distinguished by their “memory” as they take information from prior inputs to influence the current input and output. While traditional deep neural networks assume that inputs and outputs are independent of each other, the output of recurrent neural networks depend on the prior elements within the sequence. While future events would also be helpful in determining the output of a given sequence, unidirectional recurrent neural networks cannot account for these events in their predictions."
   ]
  },
  {
   "cell_type": "markdown",
   "id": "acb11b32-abc4-4651-813a-07af63caa8a2",
   "metadata": {},
   "source": [
    "## Work Cited:\n",
    "\n",
    "Patel, Janik, et al. \"Stock Price Prediction Using RNN and LSTM.\" *JETIR*, vol.5, no. 11, Nov 18. 2018. \n",
    "https://www.jetir.org/papers/JETIRK006164.pdf"
   ]
  },
  {
   "cell_type": "code",
   "execution_count": null,
   "id": "592b6f10-b34f-4691-bd2b-a144cbb47fdf",
   "metadata": {},
   "outputs": [],
   "source": []
  }
 ],
 "metadata": {
  "kernelspec": {
   "display_name": "Python 3 (ipykernel)",
   "language": "python",
   "name": "python3"
  },
  "language_info": {
   "codemirror_mode": {
    "name": "ipython",
    "version": 3
   },
   "file_extension": ".py",
   "mimetype": "text/x-python",
   "name": "python",
   "nbconvert_exporter": "python",
   "pygments_lexer": "ipython3",
   "version": "3.8.12"
  }
 },
 "nbformat": 4,
 "nbformat_minor": 5
}
