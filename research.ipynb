{
 "cells": [
  {
   "cell_type": "markdown",
   "id": "59bd390b-21ca-4ae5-b3bb-4a31dc903eb9",
   "metadata": {},
   "source": [
    "# Stock Price Prediction\n",
    "\n",
    "**Keywords:** Stock price prediciton, Deep Learning, RNN, LSTM, Bi-LSTM, Transformers"
   ]
  },
  {
   "cell_type": "markdown",
   "id": "acb11b32-abc4-4651-813a-07af63caa8a2",
   "metadata": {},
   "source": [
    "## Work Cited:"
   ]
  }
 ],
 "metadata": {
  "kernelspec": {
   "display_name": "Python 3 (ipykernel)",
   "language": "python",
   "name": "python3"
  },
  "language_info": {
   "codemirror_mode": {
    "name": "ipython",
    "version": 3
   },
   "file_extension": ".py",
   "mimetype": "text/x-python",
   "name": "python",
   "nbconvert_exporter": "python",
   "pygments_lexer": "ipython3",
   "version": "3.8.12"
  }
 },
 "nbformat": 4,
 "nbformat_minor": 5
}
